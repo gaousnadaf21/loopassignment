{
 "cells": [
  {
   "cell_type": "markdown",
   "id": "fb292784-df53-44dd-b381-c55d0ede7038",
   "metadata": {},
   "source": [
    "#print number from 1 to 5 using a while loop"
   ]
  },
  {
   "cell_type": "code",
   "execution_count": 1,
   "id": "0be34cb6-be8e-4ab2-ad5a-c92ceeaf19ff",
   "metadata": {},
   "outputs": [
    {
     "name": "stdout",
     "output_type": "stream",
     "text": [
      "1\n",
      "2\n",
      "3\n",
      "4\n",
      "5\n"
     ]
    }
   ],
   "source": [
    "count = 1\n",
    "while count <= 5:\n",
    "    print(count)\n",
    "    count += 1"
   ]
  },
  {
   "cell_type": "markdown",
   "id": "1369f78c-ecf3-443c-86e2-4b8b13794cf2",
   "metadata": {},
   "source": [
    "#calculate the sum of numbers from 1 to 10 using a while loop "
   ]
  },
  {
   "cell_type": "code",
   "execution_count": 2,
   "id": "7070c481-438e-4613-b776-e21e32e0940c",
   "metadata": {},
   "outputs": [],
   "source": [
    "total_sum = 0\n",
    "number = 1\n",
    "while number <= 10:\n",
    "    total_sum += number \n",
    "    number += 1"
   ]
  },
  {
   "cell_type": "code",
   "execution_count": 3,
   "id": "a294260d-f0d2-4d2a-8e06-165bcd6caf26",
   "metadata": {},
   "outputs": [
    {
     "name": "stdout",
     "output_type": "stream",
     "text": [
      "the sum of the numbers from 1 to 10 is: 55\n"
     ]
    }
   ],
   "source": [
    "print(\"the sum of the numbers from 1 to 10 is:\",total_sum)"
   ]
  },
  {
   "cell_type": "markdown",
   "id": "24ff5e6a-a15f-472f-a368-379af469f72e",
   "metadata": {},
   "source": [
    "#calculate factorail of a number using for loop"
   ]
  },
  {
   "cell_type": "code",
   "execution_count": 4,
   "id": "63213713-090e-44e5-9634-5e6683dac6af",
   "metadata": {},
   "outputs": [
    {
     "name": "stdout",
     "output_type": "stream",
     "text": [
      "Factorial of 6 is: 720\n"
     ]
    }
   ],
   "source": [
    "def factorial(n):\n",
    "    if n < 0:\n",
    "        return \"Factorial is not defined for negative numbers\"\n",
    "    elif n == 0:\n",
    "        return 1\n",
    "    else:\n",
    "        result = 1\n",
    "        for i in range(1, n + 1):\n",
    "            result *= i\n",
    "        return result\n",
    "\n",
    "\n",
    "number = 6\n",
    "print(\"Factorial of\", number, \"is:\", factorial(number))\n"
   ]
  },
  {
   "cell_type": "markdown",
   "id": "b3a5bb4a-22f8-4363-9931-937dc01e9e98",
   "metadata": {},
   "source": [
    "#Cont the number of vowel in a string using a for loop"
   ]
  },
  {
   "cell_type": "code",
   "execution_count": 5,
   "id": "2a9056ce-baad-44a6-bb9c-208f6637743a",
   "metadata": {},
   "outputs": [
    {
     "name": "stdout",
     "output_type": "stream",
     "text": [
      "Number of vowels in the string: 3\n"
     ]
    }
   ],
   "source": [
    "def count_vowels(string):\n",
    "    vowels = \"aeiouAEIOU\"\n",
    "    count = 0\n",
    "    for char in string:\n",
    "        if char in vowels:\n",
    "            count += 1\n",
    "    return count\n",
    "\n",
    "\n",
    "input_string = \"Hello World\"\n",
    "print(\"Number of vowels in the string:\", count_vowels(input_string))\n"
   ]
  },
  {
   "cell_type": "markdown",
   "id": "f01d2a02-488b-41bf-a60d-477225e251fc",
   "metadata": {},
   "source": [
    "#Print a pattern using nested loop"
   ]
  },
  {
   "cell_type": "code",
   "execution_count": 6,
   "id": "8826b3e6-41ea-4996-9fb6-8a2ccfc00837",
   "metadata": {},
   "outputs": [
    {
     "name": "stdout",
     "output_type": "stream",
     "text": [
      "* \n",
      "* * \n",
      "* * * \n",
      "* * * * \n",
      "* * * * * \n"
     ]
    }
   ],
   "source": [
    "def print_pattern(rows):\n",
    "    for i in range(1, rows + 1):\n",
    "        for j in range(1, i + 1):\n",
    "            print(\"*\", end=\" \")\n",
    "        print()\n",
    "\n",
    "print_pattern(5)\n"
   ]
  },
  {
   "cell_type": "markdown",
   "id": "8d188c81-1ea1-4cce-ae9c-c621ea332d10",
   "metadata": {},
   "source": [
    "#Generate a multiplication table using nested loop"
   ]
  },
  {
   "cell_type": "code",
   "execution_count": 7,
   "id": "86214e53-7e1a-4107-b6ca-c1eef1d7d071",
   "metadata": {},
   "outputs": [
    {
     "name": "stdout",
     "output_type": "stream",
     "text": [
      "1\t2\t3\t4\t5\t\n",
      "2\t4\t6\t8\t10\t\n",
      "3\t6\t9\t12\t15\t\n",
      "4\t8\t12\t16\t20\t\n",
      "5\t10\t15\t20\t25\t\n"
     ]
    }
   ],
   "source": [
    "def multiplication_table(n):\n",
    "    for i in range(1, n+1):\n",
    "        for j in range(1, n+1):\n",
    "            print(i * j, end=\"\\t\")\n",
    "        print()\n",
    "\n",
    "\n",
    "multiplication_table(5)\n"
   ]
  },
  {
   "cell_type": "code",
   "execution_count": null,
   "id": "05464b31-a847-49d6-8041-e7dac7a644e4",
   "metadata": {},
   "outputs": [],
   "source": []
  }
 ],
 "metadata": {
  "kernelspec": {
   "display_name": "Python 3 (ipykernel)",
   "language": "python",
   "name": "python3"
  },
  "language_info": {
   "codemirror_mode": {
    "name": "ipython",
    "version": 3
   },
   "file_extension": ".py",
   "mimetype": "text/x-python",
   "name": "python",
   "nbconvert_exporter": "python",
   "pygments_lexer": "ipython3",
   "version": "3.10.8"
  }
 },
 "nbformat": 4,
 "nbformat_minor": 5
}
